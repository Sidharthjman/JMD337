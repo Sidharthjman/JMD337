{
  "nbformat": 4,
  "nbformat_minor": 0,
  "metadata": {
    "colab": {
      "provenance": []
    },
    "kernelspec": {
      "name": "python3",
      "display_name": "Python 3"
    },
    "language_info": {
      "name": "python"
    }
  },
  "cells": [
    {
      "cell_type": "code",
      "source": [],
      "metadata": {
        "id": "w-6D6FcftEm4"
      },
      "execution_count": null,
      "outputs": []
    },
    {
      "cell_type": "code",
      "source": [
        "import pandas as pd\n",
        "import numpy as np\n",
        "import networkx as nx\n",
        "from sklearn.metrics.pairwise import cosine_similarity\n",
        "from sklearn.preprocessing import LabelEncoder\n",
        "import random\n",
        "from collections import defaultdict\n",
        "from sklearn.metrics import (\n",
        "    roc_auc_score,\n",
        "    average_precision_score,\n",
        "    precision_recall_curve,\n",
        "    auc  # Include this\n",
        ")\n",
        "\n",
        "\n",
        "# Load Data (enhanced data)\n",
        "courses = pd.read_csv(\"courses_final.csv\")\n",
        "enrollments = pd.read_csv(\"enrollments_final.csv\")\n",
        "\n",
        "# --- Knowledge Graph ---\n",
        "kg = nx.Graph()\n",
        "\n",
        "# Adding nodes for courses\n",
        "for _, row in courses.iterrows():\n",
        "    kg.add_node(row['CourseID'], category=row['category'], skills=row['skills'])\n",
        "\n",
        "# Adding edges for enrollments\n",
        "for _, row in enrollments.iterrows():\n",
        "    kg.add_edge(row['UserID'], row['CourseID'], grade=row['grade'], completed=row['completed'])\n",
        "\n",
        "# --- Collaborative Filtering ---\n",
        "interactions = pd.DataFrame({'user': enrollments['UserID'], 'course': enrollments['CourseID'], 'rating': 1})\n",
        "\n",
        "user_encoder = LabelEncoder()\n",
        "course_encoder = LabelEncoder()\n",
        "interactions['user_id'] = user_encoder.fit_transform(interactions['user'])\n",
        "interactions['course_id'] = course_encoder.fit_transform(interactions['course'])\n",
        "\n",
        "interaction_matrix = interactions.pivot_table(values='rating', index=['user_id'], columns=['course_id']).fillna(0)\n"
      ],
      "metadata": {
        "id": "QsX77bgrtLs-"
      },
      "execution_count": null,
      "outputs": []
    },
    {
      "cell_type": "code",
      "source": [
        "# --- Function to Recommend Using Collaborative Filtering ---\n",
        "def collaborative_filtering_recommendations(user_id, interaction_matrix, num_recommendations=5):\n",
        "    if user_id in interaction_matrix.index:\n",
        "        user_interactions = interaction_matrix.loc[user_id].values.reshape(1, -1)\n",
        "        similarity_scores = cosine_similarity(user_interactions, interaction_matrix)\n",
        "        recommendations_indices = np.argsort(similarity_scores[0])[::-1]\n",
        "        recs_encoded = recommendations_indices[:num_recommendations]\n",
        "        return course_encoder.inverse_transform(recs_encoded).tolist()\n",
        "    else:\n",
        "        # If user is not in the interaction matrix, suggest random courses\n",
        "        course_ids = courses['CourseID'].unique().tolist()\n",
        "        return course_ids if num_recommendations >= len(course_ids) else random.sample(course_ids, num_recommendations)\n",
        "\n",
        "# --- Ant Colony Optimization (ACO) Based Recommendations ---\n",
        "def aco_recommendations(user_id, kg, num_recommendations=5, num_ants=10, num_iterations=5, alpha=1, beta=2, evaporation_rate=0.5):\n",
        "    eligible_courses = set(courses[\"CourseID\"]) - set(kg.neighbors(user_id)) if user_id in kg else set(courses[\"CourseID\"])\n",
        "    pheromone = defaultdict(lambda: 1)\n",
        "\n",
        "    for _ in range(num_iterations):\n",
        "        for ant in range(num_ants):\n",
        "            path = []\n",
        "            current_node = user_id\n",
        "\n",
        "            for x in range(num_recommendations):\n",
        "                neighbors = list(kg.neighbors(current_node)) if current_node in kg else []\n",
        "                if neighbors:\n",
        "                    intersection = list(set(neighbors).intersection(eligible_courses))\n",
        "                    if not intersection:\n",
        "                        next_node = random.choice(list(eligible_courses)) if eligible_courses else random.choice(courses[\"CourseID\"])\n",
        "                    else:\n",
        "                        probabilities = []\n",
        "                        for neighbor in intersection:\n",
        "                            prob = pheromone[(current_node, neighbor)] ** alpha\n",
        "                            if kg.has_edge(current_node, neighbor) and 'grade' in kg[current_node][neighbor]:\n",
        "                                prob *= kg[current_node][neighbor][\"grade\"] ** beta\n",
        "                            probabilities.append(prob)\n",
        "                        probabilities = np.array(probabilities) / np.sum(probabilities)\n",
        "                        next_node = np.random.choice(intersection, p=probabilities)\n",
        "                else:\n",
        "                    next_node = random.choice(list(eligible_courses)) if eligible_courses else random.choice(courses[\"CourseID\"])\n",
        "\n",
        "                eligible_courses.discard(next_node)\n",
        "                path.append(next_node)\n",
        "                current_node = next_node\n",
        "\n",
        "            # Update pheromones\n",
        "            for course in path:\n",
        "                if kg.has_edge(user_id, course):\n",
        "                    pheromone[(user_id, course)] *= (1 - evaporation_rate + kg[user_id][course].get('grade', 0) / 100)\n",
        "\n",
        "    # Determine courses that have not been taken by the user\n",
        "    user_interactions = interaction_matrix.loc[user_id].values.reshape(1, -1) if user_id in interaction_matrix.index else [0]\n",
        "    not_taken_courses = np.where(user_interactions == 0)[1] if len(user_interactions) > 1 else np.where(user_interactions == 0)[0]\n",
        "\n",
        "    eligible_not_taken = course_encoder.inverse_transform(not_taken_courses).tolist() if len(not_taken_courses) > 0 else list(eligible_courses)\n",
        "\n",
        "    # Final recommendations based on pheromones\n",
        "    top_recommendations = []\n",
        "    sorted_pheromone = sorted(pheromone.items(), key=lambda item: item[1], reverse=True)\n",
        "    for (node_a, node_b), _ in sorted_pheromone:\n",
        "        if node_b in eligible_not_taken and node_b not in top_recommendations:\n",
        "            top_recommendations.append(node_b)\n",
        "            if len(top_recommendations) == num_recommendations:\n",
        "                break\n",
        "\n",
        "    return top_recommendations\n"
      ],
      "metadata": {
        "id": "2UQ4_McA4an9"
      },
      "execution_count": null,
      "outputs": []
    },
    {
      "cell_type": "code",
      "source": [
        "def combined_recommendations(user_id, num_recommendations=5):\n",
        "    try:\n",
        "        user_id_encoded = user_encoder.transform([user_id])[0]\n",
        "    except:\n",
        "        print(\"UserID not present\")\n",
        "        all_course_ids = courses['CourseID'].unique().tolist()\n",
        "        return all_course_ids\n",
        "\n",
        "    # Previous Courses of the user\n",
        "    previous_courses_ids = enrollments[(enrollments['UserID'] == user_id) & (enrollments['completed'] == 1)]['CourseID'].tolist()\n",
        "    previous_courses_info = courses[courses['CourseID'].isin(previous_courses_ids)][['title', 'category']]\n",
        "\n",
        "    print(f\"Previous courses completed by User {user_id}:\")\n",
        "    for _, row in previous_courses_info.iterrows():\n",
        "        print(f\"- {row['title']} (category: {row['category']})\")\n",
        "\n",
        "    # Get recommendations\n",
        "    collab_recs = collaborative_filtering_recommendations(user_id_encoded, interaction_matrix, num_recommendations=num_recommendations)\n",
        "    aco_recs = aco_recommendations(user_id, kg, num_recommendations=num_recommendations)\n",
        "\n",
        "    # Combine recommendations from collaborative filtering and ACO\n",
        "    combined = list(set(aco_recs + collab_recs))\n",
        "    final_recommendations = combined[:num_recommendations] if len(combined) > num_recommendations else combined + [x for x in collab_recs if x not in combined][:(num_recommendations - len(combined))]\n",
        "\n",
        "    # Get the titles and categories of the recommended courses\n",
        "    recommended_courses_info = courses[courses['CourseID'].isin(final_recommendations)][['title', 'category']]\n",
        "\n",
        "    print(\"\\nRecommended courses for the user:\")\n",
        "    for _, row in recommended_courses_info.iterrows():\n",
        "        print(f\"- {row['title']} (category: {row['category']})\")\n",
        "\n",
        "    return final_recommendations\n",
        "\n",
        "# Example call\n",
        "combined_recommendations('EMP156', num_recommendations=5)\n"
      ],
      "metadata": {
        "colab": {
          "base_uri": "https://localhost:8080/"
        },
        "id": "dnAZEinPH3ke",
        "outputId": "67a7e994-21c4-424b-b0b7-68edafec6be5"
      },
      "execution_count": null,
      "outputs": [
        {
          "output_type": "stream",
          "name": "stdout",
          "text": [
            "Previous courses completed by User EMP156:\n",
            "- Mathematics for Machine Learning Specialization (category: Machine Learning)\n",
            "- Managing Cybersecurity Specialization (category: Security)\n",
            "- Google IT Support Professional Certificate (category: Support and Operations)\n",
            "- Suporte em TI do Google Professional Certificate (category: Operações e suporte)\n",
            "- Instructional Design Foundations and Applications (category: Education)\n",
            "- Introduction to Philosophy (category: Philosophy)\n",
            "- Introduction to Economic Theories (category: Economics)\n",
            "- Health Behavior Change: From Evidence to Action (category: Public Health)\n",
            "- Introduction to Hardware and Operating Systems (category: Support and Operations)\n",
            "- Introduction to Agile Development and Scrum (category: Software Development)\n",
            "- Fundamentals of Finance (category: Finance)\n",
            "- Introduction to Data, Signal, and Image Analysis with MATLAB (category: Data Analysis)\n",
            "- Machine Learning for Accounting with Python (category: Machine Learning)\n",
            "- Data Science Capstone (category: Data Analysis)\n",
            "\n",
            "Recommended courses for the user:\n",
            "- The Singer Songwriter Specialization (category: Music and Art)\n",
            "- Web Design for Everybody: Basics of Web Development & Coding Specialization (category: Mobile and Web Development)\n",
            "- Climate Change and Sustainable Investing Specialization (category: Finance)\n",
            "- C Programming with Linux Specialization (category: Software Development)\n",
            "- Android App Development Specialization (category: Mobile and Web Development)\n"
          ]
        },
        {
          "output_type": "stream",
          "name": "stderr",
          "text": [
            "<ipython-input-39-5ecfedd3ed4c>:53: DeprecationWarning: Calling nonzero on 0d arrays is deprecated, as it behaves surprisingly. Use `atleast_1d(cond).nonzero()` if the old behavior was intended. If the context of this warning is of the form `arr[nonzero(cond)]`, just use `arr[cond]`.\n",
            "  not_taken_courses = np.where(user_interactions == 0)[1] if len(user_interactions) > 1 else np.where(user_interactions == 0)[0]\n"
          ]
        },
        {
          "output_type": "execute_result",
          "data": {
            "text/plain": [
              "['COR0301', 'COR0130', 'COR0210', 'COR0170', 'COR0116']"
            ]
          },
          "metadata": {},
          "execution_count": 48
        }
      ]
    },
    {
      "cell_type": "code",
      "source": [],
      "metadata": {
        "id": "6zmBG5sUKLsL"
      },
      "execution_count": null,
      "outputs": []
    }
  ]
}